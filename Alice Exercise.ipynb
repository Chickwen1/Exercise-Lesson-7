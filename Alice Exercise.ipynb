{
 "cells": [
  {
   "cell_type": "code",
   "execution_count": 35,
   "metadata": {
    "scrolled": false
   },
   "outputs": [],
   "source": [
    "import os\n",
    "\n",
    "with open(\"Alice in Wonderland (1).txt\", encoding = \"utf-8\") as alice_file:\n",
    "    alice = alice_file.read()"
   ]
  },
  {
   "cell_type": "code",
   "execution_count": 36,
   "metadata": {},
   "outputs": [
    {
     "data": {
      "text/plain": [
       "'ALICE’S ADVENTURES IN WONDERLAND\\n\\nLewis Carroll\\n\\n\\nCHAPTER I. Down the Rabbit-Hole\\n\\nAlice was beginning to get very tired of sitting by her sister on the\\nbank, and of having nothing to do: once or twice she had peeped into the\\nbook her sister was reading, but it had no pictures or conversations in\\nit'"
      ]
     },
     "execution_count": 36,
     "metadata": {},
     "output_type": "execute_result"
    }
   ],
   "source": [
    "alice[:300]"
   ]
  },
  {
   "cell_type": "code",
   "execution_count": 15,
   "metadata": {},
   "outputs": [
    {
     "data": {
      "text/plain": [
       "'ALICE’S ADVENTURES IN WONDERLAND  Lewis Carroll   CHAPTER I. Down the Rabbit-Hole  Alice was beginning to get very tired of sitting by her sister on the bank, and of having nothing to do: once or twice she had peeped into the book her sister was reading, but it had no pictures or conversations in it'"
      ]
     },
     "execution_count": 15,
     "metadata": {},
     "output_type": "execute_result"
    }
   ],
   "source": [
    "myexample = alice[:300]\n",
    "myexample = myexample.replace(\"\\n\", \" \")\n",
    "\n",
    "myexample"
   ]
  },
  {
   "cell_type": "code",
   "execution_count": 20,
   "metadata": {},
   "outputs": [
    {
     "data": {
      "text/plain": [
       "{'Alice': 1, 'likes': 1, 'rabbits,': 1, 'potions,': 1, 'and': 1, 'Alice.': 1}"
      ]
     },
     "execution_count": 20,
     "metadata": {},
     "output_type": "execute_result"
    }
   ],
   "source": [
    "import string\n",
    "\n",
    "def make_dict(text):\n",
    "    words = text.split()\n",
    "    word_counts = {}\n",
    "    \n",
    "    for w in words:\n",
    "        if w in word_counts:\n",
    "            word_counts[w] = word_counts[w] + 1\n",
    "        else:\n",
    "            word_counts[w] = 1\n",
    "    \n",
    "    return(word_counts)\n",
    "\n",
    "make_dict(\"Alice likes rabbits, potions, and Alice.\")"
   ]
  },
  {
   "cell_type": "code",
   "execution_count": 27,
   "metadata": {},
   "outputs": [
    {
     "data": {
      "text/plain": [
       "[('alice', 2), ('likes', 1), ('rabbits', 1), ('potions', 1), ('and', 1)]"
      ]
     },
     "execution_count": 27,
     "metadata": {},
     "output_type": "execute_result"
    }
   ],
   "source": [
    "def clean_text(text):\n",
    "    #remove punctuation\n",
    "    for p in string.punctuation:\n",
    "        text = text.replace(p, \"\")\n",
    "        \n",
    "    text = text.replace(\"'\", \" \")\n",
    "    text = text.replace(\"' \", \" \")\n",
    "    text = text.replace(\" '\", \" \")\n",
    "    #make all words lowercase\n",
    "    text = text.lower()\n",
    "    \n",
    "    return(text)\n",
    "\n",
    "def find_freq_words(text):\n",
    "    text = clean_text(text)\n",
    "    word_counts = make_dict(text)\n",
    "    sort_word_counts = sorted(word_counts.items(), key=lambda x:x[1], reverse = True)\n",
    "    return(sort_word_counts)\n",
    "\n",
    "find_freq_words(\"Alice likes rabbits, potions, and Alice.\")\n"
   ]
  },
  {
   "cell_type": "code",
   "execution_count": 25,
   "metadata": {},
   "outputs": [
    {
     "data": {
      "text/plain": [
       "[('fly', 2), ('away', 1), ('little', 1)]"
      ]
     },
     "execution_count": 25,
     "metadata": {},
     "output_type": "execute_result"
    }
   ],
   "source": [
    "\n",
    "find_freq_words(\"Fly away, little fly!\")"
   ]
  },
  {
   "cell_type": "code",
   "execution_count": 28,
   "metadata": {},
   "outputs": [
    {
     "data": {
      "text/plain": [
       "[('the', 1608),\n",
       " ('and', 787),\n",
       " ('to', 710),\n",
       " ('a', 615),\n",
       " ('she', 532),\n",
       " ('of', 493),\n",
       " ('said', 457),\n",
       " ('it', 446),\n",
       " ('alice', 383),\n",
       " ('in', 354),\n",
       " ('was', 351),\n",
       " ('you', 296),\n",
       " ('i', 265),\n",
       " ('as', 254),\n",
       " ('her', 247),\n",
       " ('that', 234),\n",
       " ('at', 205),\n",
       " ('on', 181),\n",
       " ('had', 177),\n",
       " ('with', 175),\n",
       " ('all', 168),\n",
       " ('for', 141),\n",
       " ('very', 139),\n",
       " ('be', 139),\n",
       " ('so', 135),\n",
       " ('this', 128),\n",
       " ('little', 125),\n",
       " ('but', 124),\n",
       " ('‘i', 124),\n",
       " ('not', 121),\n",
       " ('they', 117),\n",
       " ('out', 112),\n",
       " ('he', 112),\n",
       " ('down', 97),\n",
       " ('his', 95),\n",
       " ('what', 93),\n",
       " ('about', 92),\n",
       " ('up', 91),\n",
       " ('one', 90),\n",
       " ('is', 88),\n",
       " ('went', 83),\n",
       " ('herself', 83),\n",
       " ('were', 83),\n",
       " ('like', 78),\n",
       " ('could', 77),\n",
       " ('would', 77),\n",
       " ('have', 77),\n",
       " ('thought', 74),\n",
       " ('when', 74),\n",
       " ('no', 73)]"
      ]
     },
     "execution_count": 28,
     "metadata": {},
     "output_type": "execute_result"
    }
   ],
   "source": [
    "alice_words = find_freq_words(alice)\n",
    "alice_words[:50]"
   ]
  },
  {
   "cell_type": "code",
   "execution_count": 31,
   "metadata": {},
   "outputs": [],
   "source": [
    "import csv\n",
    "\n",
    "with open(\"Alice Word Frequencies.csv\", \"w\", newline =\"\") as outfile:\n",
    "    writer = csv.writer(outfile)\n",
    "    writer.writerows([\"Word\", \"Frequency\"])\n",
    "    writer.writerows(alice_words)"
   ]
  },
  {
   "cell_type": "code",
   "execution_count": 37,
   "metadata": {},
   "outputs": [],
   "source": [
    "def count_chars(text, char):\n",
    "    count = 0\n",
    "    for c in text:\n",
    "        if c == char:\n",
    "            count += 1\n",
    "    return(count)"
   ]
  },
  {
   "cell_type": "code",
   "execution_count": 33,
   "metadata": {},
   "outputs": [
    {
     "data": {
      "text/plain": [
       "3"
      ]
     },
     "execution_count": 33,
     "metadata": {},
     "output_type": "execute_result"
    }
   ],
   "source": [
    "count_chars(\"I! like! shouting!\", \"!\")"
   ]
  },
  {
   "cell_type": "code",
   "execution_count": 34,
   "metadata": {},
   "outputs": [
    {
     "data": {
      "text/plain": [
       "450"
      ]
     },
     "execution_count": 34,
     "metadata": {},
     "output_type": "execute_result"
    }
   ],
   "source": [
    "count_chars(alice,\"!\")"
   ]
  },
  {
   "cell_type": "code",
   "execution_count": 40,
   "metadata": {},
   "outputs": [],
   "source": [
    "from collections import Counter\n",
    "\n",
    "def make_counter_dict(text):\n",
    "    words = text.split()\n",
    "    word_counts = Counter(words)\n",
    "    #most_common(10) returns top 10 words\n",
    "    sort_word_counts = word_counts.most_common(10)\n",
    "    return(sort_word_counts)"
   ]
  },
  {
   "cell_type": "code",
   "execution_count": 41,
   "metadata": {},
   "outputs": [
    {
     "data": {
      "text/plain": [
       "[('the', 1507),\n",
       " ('and', 714),\n",
       " ('to', 703),\n",
       " ('a', 606),\n",
       " ('of', 490),\n",
       " ('she', 484),\n",
       " ('said', 416),\n",
       " ('it', 346),\n",
       " ('in', 344),\n",
       " ('was', 328)]"
      ]
     },
     "execution_count": 41,
     "metadata": {},
     "output_type": "execute_result"
    }
   ],
   "source": [
    "make_counter_dict(alice)"
   ]
  },
  {
   "cell_type": "code",
   "execution_count": 42,
   "metadata": {},
   "outputs": [
    {
     "data": {
      "text/plain": [
       "[' Hello', ' hi', ' ', 'how are you? ']"
      ]
     },
     "execution_count": 42,
     "metadata": {},
     "output_type": "execute_result"
    }
   ],
   "source": [
    "example = \" Hello, hi, ,how are you? \"\n",
    "example_split = example.split(\",\")\n",
    "example_split"
   ]
  },
  {
   "cell_type": "code",
   "execution_count": 43,
   "metadata": {},
   "outputs": [
    {
     "ename": "AttributeError",
     "evalue": "'list' object has no attribute 'strip'",
     "output_type": "error",
     "traceback": [
      "\u001b[1;31m---------------------------------------------------------------------------\u001b[0m",
      "\u001b[1;31mAttributeError\u001b[0m                            Traceback (most recent call last)",
      "\u001b[1;32m<ipython-input-43-6ddc1b9bbe63>\u001b[0m in \u001b[0;36m<module>\u001b[1;34m\u001b[0m\n\u001b[1;32m----> 1\u001b[1;33m \u001b[0mexample_split\u001b[0m\u001b[1;33m.\u001b[0m\u001b[0mstrip\u001b[0m\u001b[1;33m(\u001b[0m\u001b[1;33m)\u001b[0m\u001b[1;33m\u001b[0m\u001b[1;33m\u001b[0m\u001b[0m\n\u001b[0m",
      "\u001b[1;31mAttributeError\u001b[0m: 'list' object has no attribute 'strip'"
     ]
    }
   ],
   "source": [
    "#strip() does not work on lists\n",
    "example_split.strip()"
   ]
  },
  {
   "cell_type": "code",
   "execution_count": 44,
   "metadata": {},
   "outputs": [
    {
     "data": {
      "text/plain": [
       "'Hello, hi, ,how are you?'"
      ]
     },
     "execution_count": 44,
     "metadata": {},
     "output_type": "execute_result"
    }
   ],
   "source": [
    "example.strip()"
   ]
  },
  {
   "cell_type": "code",
   "execution_count": 45,
   "metadata": {},
   "outputs": [],
   "source": [
    "clean_example = []\n",
    "\n",
    "for word in example_split:\n",
    "    short_word = word.strip()\n",
    "    clean_example.append( short_word )"
   ]
  },
  {
   "cell_type": "code",
   "execution_count": 46,
   "metadata": {},
   "outputs": [],
   "source": [
    "clean_example = [word.strip() for word in example_split]"
   ]
  },
  {
   "cell_type": "code",
   "execution_count": 47,
   "metadata": {},
   "outputs": [
    {
     "data": {
      "text/plain": [
       "['Hello', 'hi', '', 'how are you?']"
      ]
     },
     "execution_count": 47,
     "metadata": {},
     "output_type": "execute_result"
    }
   ],
   "source": [
    "clean_example"
   ]
  },
  {
   "cell_type": "code",
   "execution_count": 49,
   "metadata": {},
   "outputs": [],
   "source": [
    "all_words = []\n",
    "\n",
    "for word in clean_example:\n",
    "    if(len(word) > 0):\n",
    "        all_words.append(word)"
   ]
  },
  {
   "cell_type": "code",
   "execution_count": 50,
   "metadata": {},
   "outputs": [
    {
     "data": {
      "text/plain": [
       "['Hello', 'hi', 'how are you?']"
      ]
     },
     "execution_count": 50,
     "metadata": {},
     "output_type": "execute_result"
    }
   ],
   "source": [
    "all_words"
   ]
  },
  {
   "cell_type": "code",
   "execution_count": 51,
   "metadata": {},
   "outputs": [],
   "source": [
    "all_words = [word for word in clean_example if len(word) > 0 ]"
   ]
  },
  {
   "cell_type": "code",
   "execution_count": 52,
   "metadata": {},
   "outputs": [
    {
     "data": {
      "text/plain": [
       "['Hello', 'hi', 'how are you?']"
      ]
     },
     "execution_count": 52,
     "metadata": {},
     "output_type": "execute_result"
    }
   ],
   "source": [
    "all_words"
   ]
  },
  {
   "cell_type": "code",
   "execution_count": null,
   "metadata": {},
   "outputs": [],
   "source": []
  }
 ],
 "metadata": {
  "kernelspec": {
   "display_name": "Python 3",
   "language": "python",
   "name": "python3"
  },
  "language_info": {
   "codemirror_mode": {
    "name": "ipython",
    "version": 3
   },
   "file_extension": ".py",
   "mimetype": "text/x-python",
   "name": "python",
   "nbconvert_exporter": "python",
   "pygments_lexer": "ipython3",
   "version": "3.7.3"
  }
 },
 "nbformat": 4,
 "nbformat_minor": 2
}
